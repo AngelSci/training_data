{
 "cells": [
  {
   "cell_type": "markdown",
   "metadata": {},
   "source": [
    "# Airline delays"
   ]
  },
  {
   "cell_type": "code",
   "execution_count": null,
   "metadata": {
    "collapsed": false,
    "scrolled": true
   },
   "outputs": [],
   "source": [
    "from bokeh.io import output_notebook\n",
    "from bokeh.models import ColumnDataSource, HoverTool\n",
    "from bokeh.palettes import RdYlGn8\n",
    "from bokeh.plotting import figure, show\n",
    "import numpy as np\n",
    "import pandas as pd\n",
    "\n",
    "output_notebook()"
   ]
  },
  {
   "cell_type": "markdown",
   "metadata": {},
   "source": [
    "## Airport delays"
   ]
  },
  {
   "cell_type": "markdown",
   "metadata": {},
   "source": [
    "The original data set contains the total number of arriving flights separated by airline and airport along with the number late arriving flights for each monght from 2003 to late 2015."
   ]
  },
  {
   "cell_type": "code",
   "execution_count": null,
   "metadata": {
    "collapsed": false,
    "scrolled": true
   },
   "outputs": [],
   "source": [
    "flights = pd.read_csv('airline_delay_causes.csv.gz',\n",
    "                      parse_dates={'period': [0,1]},\n",
    "                      usecols=['year', ' month', 'airport', 'carrier', 'arr_flights', 'arr_del15'],\n",
    "                     dtype={'arr_del15':float})\n",
    "\n",
    "flights = flights.groupby(['airport', 'period']).sum()"
   ]
  },
  {
   "cell_type": "code",
   "execution_count": null,
   "metadata": {
    "collapsed": false
   },
   "outputs": [],
   "source": [
    "idx = pd.IndexSlice\n",
    "flights.loc[idx['PIT', '2008':'2008'], :]"
   ]
  },
  {
   "cell_type": "markdown",
   "metadata": {},
   "source": [
    "Compute percentage of delayed flights."
   ]
  },
  {
   "cell_type": "code",
   "execution_count": null,
   "metadata": {
    "collapsed": false,
    "nbpresent": {
     "id": "c649610d-0bc5-4f22-aacc-413f428f69ab"
    }
   },
   "outputs": [],
   "source": [
    "flights['late_pct'] = flights.arr_del15 / flights.arr_flights * 100\n",
    "flights['color'] = pd.qcut(flights.late_pct, q=8, labels=RdYlGn8)\n",
    "flights['size'] = pd.cut(flights.arr_flights, bins=[0, 500, 5000, 50000], labels=[5,10,15])"
   ]
  },
  {
   "cell_type": "markdown",
   "metadata": {},
   "source": [
    "## ColumnDataSource"
   ]
  },
  {
   "cell_type": "markdown",
   "metadata": {},
   "source": [
    "### State borders"
   ]
  },
  {
   "cell_type": "markdown",
   "metadata": {},
   "source": [
    "Only include airports in the the lower 48 states"
   ]
  },
  {
   "cell_type": "code",
   "execution_count": null,
   "metadata": {
    "collapsed": false,
    "nbpresent": {
     "id": "0c0d8d5c-35a4-48ea-a489-0e79d6730f18"
    },
    "scrolled": false
   },
   "outputs": [],
   "source": [
    "from bokeh.sampledata.us_states import data as states\n",
    "\n",
    "states = pd.DataFrame(states).T\n",
    "states.drop([\"AK\", \"HI\"], inplace=True)"
   ]
  },
  {
   "cell_type": "code",
   "execution_count": null,
   "metadata": {
    "collapsed": false
   },
   "outputs": [],
   "source": [
    "max_lon = max(states.lons.apply(max))\n",
    "min_lon = min(states.lons.apply(min))"
   ]
  },
  {
   "cell_type": "code",
   "execution_count": null,
   "metadata": {
    "collapsed": true
   },
   "outputs": [],
   "source": [
    "states_source = ColumnDataSource(states)"
   ]
  },
  {
   "cell_type": "markdown",
   "metadata": {},
   "source": [
    "### Airport locations"
   ]
  },
  {
   "cell_type": "markdown",
   "metadata": {},
   "source": [
    "Add latitude and longitude positions of airports."
   ]
  },
  {
   "cell_type": "code",
   "execution_count": null,
   "metadata": {
    "collapsed": false,
    "nbpresent": {
     "id": "07156be8-38d0-4579-8e25-9392ba02e925"
    }
   },
   "outputs": [],
   "source": [
    "airports = pd.read_csv('airports.csv', usecols=['country', 'iata/faa', 'latitude', 'longitude', 'name'])\n",
    "airports = airports[(airports.longitude < max_lon) &\n",
    "                    (airports.longitude > min_lon) &\n",
    "                    (airports.country=='United States')]\n",
    "airports.rename(columns={'iata/faa': 'airport'}, inplace=True)\n",
    "airports.set_index('airport', inplace=True)"
   ]
  },
  {
   "cell_type": "markdown",
   "metadata": {},
   "source": [
    "<big><big><b><font color='green'>Choose a month to plot</font></b></big>\n",
    "<br><br>\n",
    "Between June 2003 and Novemeber 2015</big>"
   ]
  },
  {
   "cell_type": "code",
   "execution_count": null,
   "metadata": {
    "collapsed": true
   },
   "outputs": [],
   "source": [
    "month = pd.Timestamp('YYYY-MM-01')"
   ]
  },
  {
   "cell_type": "markdown",
   "metadata": {},
   "source": [
    "Filter by year and month."
   ]
  },
  {
   "cell_type": "code",
   "execution_count": null,
   "metadata": {
    "collapsed": false
   },
   "outputs": [],
   "source": [
    "delays = airports.join(flights.xs(month, level='period')).dropna()\n",
    "\n",
    "delays_source = ColumnDataSource(delays)"
   ]
  },
  {
   "cell_type": "markdown",
   "metadata": {},
   "source": [
    "## Plot"
   ]
  },
  {
   "cell_type": "markdown",
   "metadata": {},
   "source": [
    "* `size`: total number of flights\n",
    "* `color`: Green-yellow-orange-red, increasing percentage of late flights."
   ]
  },
  {
   "cell_type": "code",
   "execution_count": null,
   "metadata": {
    "collapsed": false,
    "nbpresent": {
     "id": "2fcaf6b1-d0cd-4877-9035-4cb1ad21aff6"
    }
   },
   "outputs": [],
   "source": [
    "hover = HoverTool(names=['delays'])\n",
    "hover.tooltips = [\n",
    "    (\"Name\", \"@name\"),\n",
    "    (\"Airport Code\", \"@airport\"),\n",
    "    (\"No. Arrivals\", \"@arr_flights\"),\n",
    "    (\"Pct Delayed\", \"@late_pct\")\n",
    "]\n",
    "\n",
    "title = 'US Airport Delays {}'.format(month.strftime(\"%B %Y\"))\n",
    "p = figure(title=title, tools=[hover,'wheel_zoom', 'pan', 'reset'], \n",
    "           plot_width=875, plot_height=540)\n",
    "p.patches(xs='lons', ys='lats', \n",
    "          fill_alpha=0, line_color=\"#884444\", line_width=2, line_alpha=0.3, \n",
    "          source=states_source)\n",
    "p.circle(x='longitude', y='latitude', name='delays',\n",
    "         size='size', color='color', alpha=0.7, line_color='black', \n",
    "         source=delays_source)\n",
    "p.grid.grid_line_alpha = 0.0\n",
    "p.xaxis.axis_label = \"Longitude (deg)\"\n",
    "p.yaxis.axis_label = \"Latitude (deg)\"\n",
    "show(p)"
   ]
  }
 ],
 "metadata": {
  "anaconda-cloud": {},
  "kernelspec": {
   "display_name": "Python [default]",
   "language": "python",
   "name": "Python [default]"
  },
  "language_info": {
   "codemirror_mode": {
    "name": "ipython",
    "version": 2
   },
   "file_extension": ".py",
   "mimetype": "text/x-python",
   "name": "python",
   "nbconvert_exporter": "python",
   "pygments_lexer": "ipython2",
   "version": "2.7.11"
  }
 },
 "nbformat": 4,
 "nbformat_minor": 0
}
